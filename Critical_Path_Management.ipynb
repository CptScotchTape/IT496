{
  "nbformat": 4,
  "nbformat_minor": 0,
  "metadata": {
    "colab": {
      "name": "Critical Path Management.ipynb",
      "provenance": [],
      "mount_file_id": "1RW-P-t_MlpL490BqqStum1R9aTkydKHS",
      "authorship_tag": "ABX9TyNBMdzRvZ411gUTFol5LnAT",
      "include_colab_link": true
    },
    "kernelspec": {
      "name": "python3",
      "display_name": "Python 3"
    },
    "language_info": {
      "name": "python"
    }
  },
  "cells": [
    {
      "cell_type": "markdown",
      "metadata": {
        "id": "view-in-github",
        "colab_type": "text"
      },
      "source": [
        "<a href=\"https://colab.research.google.com/github/CptScotchTape/IT496/blob/main/Critical_Path_Management.ipynb\" target=\"_parent\"><img src=\"https://colab.research.google.com/assets/colab-badge.svg\" alt=\"Open In Colab\"/></a>"
      ]
    },
    {
      "cell_type": "code",
      "execution_count": 74,
      "metadata": {
        "colab": {
          "base_uri": "https://localhost:8080/",
          "height": 366
        },
        "id": "ln9vfM-g5Up-",
        "outputId": "a14dd42a-bb16-4e3a-c0bd-3988c92432a0"
      },
      "outputs": [
        {
          "output_type": "execute_result",
          "data": {
            "text/plain": [
              "<matplotlib.axes._subplots.AxesSubplot at 0x7fbab3a56d50>"
            ]
          },
          "metadata": {},
          "execution_count": 74
        },
        {
          "output_type": "display_data",
          "data": {
            "text/plain": [
              "<Figure size 432x288 with 1 Axes>"
            ],
            "image/png": "[encoded data removed]"
          },
          "metadata": {
            "needs_background": "light"
          }
        }
      ],
      "source": [
        "from logging import critical\n",
        "import pandas as pd\n",
        "import tensorflow_probability as tfp\n",
        "from collections import Counter\n",
        "\n",
        "tfd = tfp.distributions\n",
        "\n",
        "tasksDF=pd.read_csv(\"/content/drive/MyDrive/Illinois State University/IT 497/PERT-CPM.csv\")\n",
        "taskNames=tasksDF['tasks']\n",
        "\n",
        "paths = [[\"A\",\"D\",\"E\",\"J\"], [\"B\",\"C\",\"D\",\"E\",\"J\"], [\"B\",\"D\",\"F\",\"G\",\"J\"], [\"B\",\"C\",\"F\",\"G\",\"J\"], [\"B\",\"C\",\"F\",\"H\",\"J\"], [\"B\",\"J\"]]\n",
        "\n",
        "simulationDF=pd.DataFrame(columns=taskNames)\n",
        "\n",
        "#print(simulationDF.columns)\n",
        "\n",
        "for index, task in tasksDF.iterrows():\n",
        "  dist=tfd.PERT(low=task['ai '], peak=task['mi'], high=task['bi'], temperature=4)\n",
        "  simulationDF[task['tasks']]=dist.sample(1000)\n",
        "\n",
        "#print(simulationDF.head(2))\n",
        "\n",
        "simulationDF.to_csv(\"/content/drive/MyDrive/Illinois State University/IT 497/simulationDataset.csv\", index=False)\n",
        "\n",
        "# Initialize paths array\n",
        "critPaths = []\n",
        "\n",
        "for index in simulationDF.index:\n",
        "  # Initialzie path lengths\n",
        "  pathLenghts = []\n",
        "\n",
        "  for path in paths:\n",
        "    pathLenght = 0\n",
        "    for task in path:\n",
        "      pathLenght += simulationDF[task][index]\n",
        "    pathLenghts.append([str(path), pathLenght])\n",
        "\n",
        "  crit = pathLenghts[0]\n",
        "\n",
        "  for i in range(0,len(pathLenghts)):\n",
        "    # If the current path is longer than the current critical path, make it the new critical path\n",
        "    if(pathLenghts[i][1] > crit[1]):\n",
        "      crit = pathLenghts[i]\n",
        "\n",
        "  critPaths.append(crit[0])\n",
        "\n",
        "# Plot a bar graph showing the frequency of each path\n",
        "critPathCounts = Counter(critPaths)\n",
        "df = pd.DataFrame.from_dict(critPathCounts, orient='index')\n",
        "df.plot(kind='bar')\n",
        "\n",
        "\n",
        "\n",
        "  "
      ]
    }
  ]
}